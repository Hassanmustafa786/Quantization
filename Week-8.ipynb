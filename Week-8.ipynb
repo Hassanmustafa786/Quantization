{
 "cells": [
  {
   "cell_type": "markdown",
   "metadata": {},
   "source": [
    "# Binary Quantization in Sentence Transformers\n",
    "Quantizing an embedding with a dimensionality of 1024 to binary would result in 1024 bits. In practice, it is much more common to store bits as bytes instead, so when we quantize to binary embeddings, we pack the bits into bytes using np.packbits.\n",
    "\n",
    "As a result, in practice quantizing a float32 embedding with a dimensionality of 1024 yields an int8 or uint8 embedding with a dimensionality of 128. See two approaches of how you can produce quantized embeddings using Sentence Transformers below:"
   ]
  },
  {
   "cell_type": "code",
   "execution_count": 1,
   "metadata": {},
   "outputs": [
    {
     "name": "stderr",
     "output_type": "stream",
     "text": [
      "/Users/owner/My Drive/Hassan USB Data/Bytewise NLP/env/lib/python3.10/site-packages/sentence_transformers/cross_encoder/CrossEncoder.py:11: TqdmWarning: IProgress not found. Please update jupyter and ipywidgets. See https://ipywidgets.readthedocs.io/en/stable/user_install.html\n",
      "  from tqdm.autonotebook import tqdm, trange\n"
     ]
    },
    {
     "data": {
      "text/plain": [
       "SentenceTransformer(\n",
       "  (0): Transformer({'max_seq_length': 512, 'do_lower_case': False}) with Transformer model: BertModel \n",
       "  (1): Pooling({'word_embedding_dimension': 1024, 'pooling_mode_cls_token': True, 'pooling_mode_mean_tokens': False, 'pooling_mode_max_tokens': False, 'pooling_mode_mean_sqrt_len_tokens': False, 'pooling_mode_weightedmean_tokens': False, 'pooling_mode_lasttoken': False, 'include_prompt': True})\n",
       ")"
      ]
     },
     "execution_count": 1,
     "metadata": {},
     "output_type": "execute_result"
    }
   ],
   "source": [
    "from sentence_transformers import SentenceTransformer\n",
    "from sentence_transformers.quantization import quantize_embeddings\n",
    "import warnings\n",
    "warnings.filterwarnings(\"ignore\")\n",
    "\n",
    "\n",
    "# 1. Load an embedding model\n",
    "model = SentenceTransformer(\"mixedbread-ai/mxbai-embed-large-v1\")\n",
    "model"
   ]
  },
  {
   "cell_type": "code",
   "execution_count": 2,
   "metadata": {},
   "outputs": [
    {
     "data": {
      "text/plain": [
       "array([[ -25,  114, -112,  -20,   62,  -32, -101,  -14,   -7,  127,  -79,\n",
       "          18,   -1,  -48,   63,    1,  -17,  -81,  -11,    9,  -41,  -89,\n",
       "         119,  -77,   80,   19,  123,   74, -116,  -36,  124,  -53,   79,\n",
       "         -56, -113,   24,   28,    9,  117,  -38,   84,   69, -111,  -15,\n",
       "         -13,   27,   36,    9,  -58, -116,   91,    5,   68,   14,   26,\n",
       "          96,  -83,   99,  -97,   46, -109,  114,   -3, -102,   51,  126,\n",
       "         -96,  -36,  -54,   25,  -60,    8, -112, -111,   46,   60,  126,\n",
       "         -74,  -63,  -27, -117, -101, -104, -128,  -65,   71,   13,  -19,\n",
       "         -20,  -79,   20,   -6,   13, -128,  -17,  121,   -2,   48,    7,\n",
       "          93,  -16,   50,  126,  106,   91,  -57,   31,  -29,    2,   79,\n",
       "         -76, -111,  -51,   21,   38,   60,  -46,   21,   55,   83, -120,\n",
       "          82,   86,    5,   57,  -37,   91,   58],\n",
       "       [ -61,   60,  -44,  108,   58,   32,   81,  -42,   89,  -43, -109,\n",
       "          59,   -1,  -55,  124,  -31,  -28,  -55,  116,   81,  -40,  -77,\n",
       "         123, -126,   80,  -37,  106,   79,    9,  126,  102,  109,  102,\n",
       "          81, -117,  -97,   84,  -52,  -51,   27, -106,  -57,   25,  -43,\n",
       "        -112,  123,   52,   11,   66,    8,  -13,   15,  -47,  -87,  -40,\n",
       "          67,   40,  -17,  -33,   32,  -93,  -30,  -83, -106,  -65,   60,\n",
       "        -127,  -16,   -1,  -86,  -64,   12, -103,   88,   84,  -36,   86,\n",
       "         -90, -107,  -12,   15,  -69, -100,   16,  -67,    4,   13,   62,\n",
       "         -88,  -95,  104,   90, -115,  -96,   38,   16,  -38,   18,  -67,\n",
       "          14,  -40,   48,  106,  106,   90,  -59,   31,  -32,   50,  -46,\n",
       "         -76,   19,  -50,   56,   28,  -83,  -45,  -43,   19,    1,  -54,\n",
       "          98,   86,   81,   49,  -37,   78,   57]], dtype=int8)"
      ]
     },
     "execution_count": 2,
     "metadata": {},
     "output_type": "execute_result"
    }
   ],
   "source": [
    "# 2a. Encode some text using \"binary\" quantization\n",
    "binary_embeddings = model.encode(\n",
    "    [\"I am driving to the lake.\", \"It is a beautiful day.\"],\n",
    "    precision=\"binary\",\n",
    ")\n",
    "binary_embeddings"
   ]
  },
  {
   "cell_type": "code",
   "execution_count": 3,
   "metadata": {},
   "outputs": [
    {
     "name": "stdout",
     "output_type": "stream",
     "text": [
      "(2, 128)\n",
      "256\n",
      "int8\n"
     ]
    }
   ],
   "source": [
    "print(binary_embeddings.shape)\n",
    "print(binary_embeddings.nbytes)\n",
    "print(binary_embeddings.dtype)"
   ]
  },
  {
   "cell_type": "code",
   "execution_count": 4,
   "metadata": {},
   "outputs": [
    {
     "name": "stdout",
     "output_type": "stream",
     "text": [
      "[[-0.25717044  0.35520184  0.00353763 ... -0.6651358   0.17863286\n",
      "  -0.17328042]\n",
      " [-0.7636851   0.5963278  -0.0395734  ... -0.06096186 -0.0360474\n",
      "   0.15181805]]\n",
      "[[ -25  114 -112  -20   62  -32 -101  -14   -7  127  -79   18   -1  -48\n",
      "    63    1  -17  -81  -11    9  -41  -89  119  -77   80   19  123   74\n",
      "  -116  -36  124  -53   79  -56 -113   24   28    9  117  -38   84   69\n",
      "  -111  -15  -13   27   36    9  -58 -116   91    5   68   14   26   96\n",
      "   -83   99  -97   46 -109  114   -3 -102   51  126  -96  -36  -54   25\n",
      "   -60    8 -112 -111   46   60  126  -74  -63  -27 -117 -101 -104 -128\n",
      "   -65   71   13  -19  -20  -79   20   -6   13 -128  -17  121   -2   48\n",
      "     7   93  -16   50  126  106   91  -57   31  -29    2   79  -76 -111\n",
      "   -51   21   38   60  -46   21   55   83 -120   82   86    5   57  -37\n",
      "    91   58]\n",
      " [ -61   60  -44  108   58   32   81  -42   89  -43 -109   59   -1  -55\n",
      "   124  -31  -28  -55  116   81  -40  -77  123 -126   80  -37  106   79\n",
      "     9  126  102  109  102   81 -117  -97   84  -52  -51   27 -106  -57\n",
      "    25  -43 -112  123   52   11   66    8  -13   15  -47  -87  -40   67\n",
      "    40  -17  -33   32  -93  -30  -83 -106  -65   60 -127  -16   -1  -86\n",
      "   -64   12 -103   88   84  -36   86  -90 -107  -12   15  -69 -100   16\n",
      "   -67    4   13   62  -88  -95  104   90 -115  -96   38   16  -38   18\n",
      "   -67   14  -40   48  106  106   90  -59   31  -32   50  -46  -76   19\n",
      "   -50   56   28  -83  -45  -43   19    1  -54   98   86   81   49  -37\n",
      "    78   57]]\n"
     ]
    }
   ],
   "source": [
    "# 2b. or, encode some text without quantization & apply quantization afterwards\n",
    "embeddings = model.encode([\"I am driving to the lake.\", \n",
    "                           \"It is a beautiful day.\"])\n",
    "print(embeddings)\n",
    "\n",
    "\n",
    "binary_embeddings = quantize_embeddings(embeddings, precision=\"binary\")\n",
    "print(binary_embeddings)"
   ]
  },
  {
   "cell_type": "markdown",
   "metadata": {},
   "source": [
    "Here you can see the differences between default float32 embeddings and binary embeddings in terms of shape, size, and numpy dtype:"
   ]
  },
  {
   "cell_type": "code",
   "execution_count": 5,
   "metadata": {},
   "outputs": [
    {
     "name": "stdout",
     "output_type": "stream",
     "text": [
      "(2, 1024)\n",
      "8192\n",
      "float32\n",
      "---------------------\n",
      "(2, 128)\n",
      "256\n",
      "int8\n"
     ]
    }
   ],
   "source": [
    "print(embeddings.shape)\n",
    "print(embeddings.nbytes)\n",
    "print(embeddings.dtype)\n",
    "print(\"---------------------\")\n",
    "print(binary_embeddings.shape)\n",
    "print(binary_embeddings.nbytes)\n",
    "print(binary_embeddings.dtype)"
   ]
  },
  {
   "cell_type": "markdown",
   "metadata": {},
   "source": [
    "# Scalar (int8) Quantization\n",
    "To convert the float32 embeddings into int8, we use a process called scalar quantization. This involves mapping the continuous range of float32 values to the discrete set of int8 values, which can represent 256 distinct levels (from -128 to 127). This is done by using a large calibration dataset of embeddings. We compute the range of these embeddings, i.e. the min and max of each of the embedding dimensions. From there, we calculate the steps (buckets) in which we categorize each value.\n",
    "\n",
    "To further boost the retrieval performance, you can optionally apply the same rescoring step as for the binary embeddings. It is important to note here that the calibration dataset has a large influence on the performance, since it defines the buckets.\n",
    "\n"
   ]
  },
  {
   "cell_type": "markdown",
   "metadata": {},
   "source": [
    "# Scalar Quantization in Sentence Transformers\n",
    "Quantizing an embedding with a dimensionality of 1024 to int8 results in 1024 bytes. In practice, we can choose either uint8 or int8. This choice is usually made depending on what your vector library/database supports.\n",
    "\n",
    "In practice, it is recommended to provide the scalar quantization with either:\n",
    "\n",
    "a large set of embeddings to quantize all at once, or\n",
    "\n",
    "min and max ranges for each of the embedding dimensions, or\n",
    "\n",
    "a large calibration dataset of embeddings from which the min and max ranges can be computed.\n",
    "\n",
    "If none of these are the case, you will be given a warning like this:\n",
    "\n",
    "Computing int8 quantization buckets based on 2 embeddings. int8 quantization is more stable with 'ranges' calculated from more embeddings or a 'calibration_embeddings' that can be used to calculate the buckets."
   ]
  },
  {
   "cell_type": "code",
   "execution_count": 6,
   "metadata": {},
   "outputs": [
    {
     "data": {
      "text/plain": [
       "SentenceTransformer(\n",
       "  (0): Transformer({'max_seq_length': 512, 'do_lower_case': False}) with Transformer model: BertModel \n",
       "  (1): Pooling({'word_embedding_dimension': 1024, 'pooling_mode_cls_token': True, 'pooling_mode_mean_tokens': False, 'pooling_mode_max_tokens': False, 'pooling_mode_mean_sqrt_len_tokens': False, 'pooling_mode_weightedmean_tokens': False, 'pooling_mode_lasttoken': False, 'include_prompt': True})\n",
       ")"
      ]
     },
     "execution_count": 6,
     "metadata": {},
     "output_type": "execute_result"
    }
   ],
   "source": [
    "from sentence_transformers import SentenceTransformer\n",
    "from sentence_transformers.quantization import quantize_embeddings\n",
    "from datasets import load_dataset\n",
    "\n",
    "# 1. Load an embedding model\n",
    "model = SentenceTransformer(\"mixedbread-ai/mxbai-embed-large-v1\")\n",
    "model"
   ]
  },
  {
   "cell_type": "code",
   "execution_count": 7,
   "metadata": {},
   "outputs": [
    {
     "name": "stderr",
     "output_type": "stream",
     "text": [
      "Downloading readme: 100%|██████████| 8.77k/8.77k [00:00<00:00, 19.0kB/s]\n",
      "Downloading data: 100%|██████████| 4.46M/4.46M [00:04<00:00, 1.01MB/s]\n",
      "Downloading data: 100%|██████████| 214k/214k [00:02<00:00, 103kB/s]\n",
      "Generating train split: 100%|██████████| 87925/87925 [00:00<00:00, 1250980.95 examples/s]\n",
      "Generating validation split: 100%|██████████| 3610/3610 [00:00<00:00, 796372.87 examples/s]\n"
     ]
    },
    {
     "name": "stdout",
     "output_type": "stream",
     "text": [
      "['where did they film hot tub time machine', 'who has the right of way in international waters', 'who does annie work for attack on titan', 'when was the immigration reform and control act passed', 'when was puerto rico added to the usa', 'who has been chosen for best supporting actress in 64 national filmfare award', 'which side of the white house is the front', 'names of the metropolitan municipalities in south africa', \"who's hosting the super bowl in 2019\", 'in which year vivo launch its first phone in india', 'where does it talk about mary magdalene in the bible', 'who carries the nuclear football for the president', 'what is the origin of the name cynthia', 'who is the guy who voiced disney channel', \"what's the legal marriage age in new york\", 'when do the red hot chili peppers tour', 'who plays mavis in the movie hotel transylvania', 'what is the channel number for cartoon network on spectrum', 'when are the fa cup semi finals played', 'when did the ipod touch 6 gen came out', 'west ham players in the 1966 world cup', 'who sings the theme song for miami vice', 'who sings should have seen it in color', 'who starred in the movie deep water horizon', 'when did justin bieber perform at madison square garden', 'protozoan classification used to be based on their means of', 'who was the first one to migrate to madinah', 'ice sheets and tundra are typical of which koppen climate category', 'what is the size of the angles of an equilateral triangle', 'when does beaty and the beast take place', 'who sings done for me with charlie puth', 'what counties are in the 6th congressional district in ga', 'who was heading indian army during bangladesh libration war 1971', 'who wrote the music for somewhere in time', 'who sings the marriage of figaro in shawshank redemption', 'who did chris long play football for last year', 'when did harry potter and the deathly hallows come out', 'how many episode of my hero academia season 2', 'during the rebuttal section of a formal debate which team speaks first', 'when was the last amendment made to the us constitution', 'starch based food to be made into plastic', 'when did north korea launch the first missile', 'what mineral in 4 ga sandstones was dated to determine the age of the earth', 'when is the last time a total eclipse happened in the us', 'when did india participate in olympics for first time', 'when is it revealed that luke and leia are siblings', 'what is the population of farmington new mexico', 'what was the last year they made the gmc envoy', 'new amsterdam was the main settlement in the dutch colony of', 'in the bible who was thrown into the fiery furnace', 'how does the oral cavity help the digestive system', 'who was alf married to in home and away', 'when did miss usa last win miss universe', 'when did the shooting happen in greys anatomy', \"who sings in there's something about mary\", 'when will new tappan zee bridge be completed', 'where is the rio grande river located in jamaica', 'where did the us get the statue of liberty', 'where is the new tottenham stadium being built', 'who won icc t 20 world cup 2016', 'who does jessica marry in the merchant of venice', 'when were the triplets born on this is us', 'what degree do you get out of medical school', \"what was the source of alpha particles in rutherford's experiment\", 'who plays glenn on the good doctor episode 7', 'who does patrick stewart play in star trek', 'real name of ginny weasley in harry potter', 'what animal is mr. big in the movie zootopia', 'who coined the phrase what happens in vegas', 'when did the suite life of zack and cody first air', 'who began the mass printing of bibles five centuries ago', 'who is next in line if president dies', 'what was the famous window called in the notre dame cathedral in paris france', \"what is reagan's job in new girl\", 'who played raoul in the phantom of the opera', 'what are the two main political parties in france', 'when did the golden knights join the nhl', 'how many episodes in season 1 of the oc', 'where are the upper motor neurons that control skeletal muscles found', 'what type of government structure does the us have', 'when did apple computer change to apple inc', 'who won the mens money in the bank match', 'the depth of the wave base is approximately', 'cities in washington state that start with o', 'when is tornado season in the united states', 'when did the olympics start every 2 years', 'who says the opening of law and order svu', 'who has highest number of subscribers on youtube', 'when did they launch the international space station', 'who played willy wonka in the original movie', 'who wrote the song i drive your truck', 'where did the idea of a messiah come from', 'who was the film chariots of fire about', 'membership in the european union requires countries to have which type of government', 'when did the life of pablo come out', 'who played freddy krueger in the 2010 nightmare on elm street', 'who sings dont you wish your girlfriend was hot like me', 'who did lebron james play for before the cleveland cavaliers', 'where does the reed go on a saxophone', 'who stars in the movie my cousin rachel', 'who explored the west coast of north america', 'when were the subways built in new york city', 'a blend of capitalism and socialism is known as', 'when did once upon a time in venice come out', 'who features in birds in the trap sing mcknight', 'how many membranes do gram negative bacteria have', 'who pitched the last perfect game in baseball', 'when is the next episode of flash going to air', 'when did significant amounts of oxygen appear in the earths atmosphere', 'when was the a* introduced at a level', 'where did the song santa claus is coming to town come from', 'where did adam lambert go to high school', 'who played jimmy in high school musical 3', 'a memorial commemorating the landing of the 1820 settlers', 'who plays earl on my name is earl', 'who sings i get by with a little help', 'when did they stop making tin type photos', 'who introduced the concept of providing alu in the computer system', 'how many keys are on microsoft windows standard keyboard', 'who was the first chief minister of punjab after independence', \"who plays andy's brother in the office\", '1. what is erikson’s stage for the early childhood age group', '13 reason why season 2 episode 1 release date', 'when did the original my little pony come out', \"when does marvel's the gifted come out\", 'who won cricket match between india and bangladesh', 'where is the saracens rugby union team based', 'where did the term trick or treat come from', 'what is the school in dead poets society', 'when did the baseball player jackie robinson die', 'who won the last mens cricket world cup', \"who produced it ain't hard to tell\", 'what is the second biggest state in united states', 'which is the state flower of himachal pradesh', 'where is walnut grove on little house on the prairie', 'song how sweet it is to be loved by you lyrics', 'what is the mlb record for most hits in a row', 'where does the money for unemployment benefits come from', \"who sang since you've been gone by rainbow\", 'when does star wars the last jedi play', 'who played jade on days of our lives', 'where is the mekong river delta located in vietnam', 'what is a natural source of salicylic acid', 'who played the mother on the partridge family', \"who played bill cosby's son on the cosby show\", 'who played tita in like water for chocolate', 'who came up with the idea of daylight saving time', 'when do they stop measuring crown to rump', 'who is the highest goal scorer in the epl', 'which u.s. political party is considered to lean to the left', 'who did the texas rangers play in the world series', 'who was first indian governor general of india', 'when does the season finale of andi mack come on', 'who is next in line for the royal throne of england', 'when was the first cabbage patch kid made', 'who is the ceo of t rowe price', 'when did the 4th harry potter book come out', 'who was islands in the stream written for', 'how many cities of refuge were the israelites to form', 'who was the first band to play at woodstock', 'what was the third battle of the american revolution', 'who is the starting kicker for the atlanta falcons', 'which two countries were the leading powers during the cold war', 'who played the oompa loompas in charlie and the chocolate factory', 'when does the school year start in france', 'who said give me loberty or give me death', 'when did we start the pledge of allegiance', 'what is the difference between a 1931 and a 1932 ford', 'what is the real name of sleeping beauty', 'when do real housewives of orange county start', 'who has scored the most goals in a premier league debut season', 'who has more la liga goals messi or ronaldo', 'who won the champions trophy 2017 cricket tournament', 'who sings the song save a horse ride a cowboy', \"what's the name of the latest james bond movie\", 'when did the tv show full house start', 'who is responsible for the bombing in quantico', 'in the otolith organs the otoliths are calcium carbonate particles that ____', 'the centers of most cities became business areas after the invention of what', 'what is the tallest building in baltimore city', 'who play the character of anarkali in mughal e azam', 'when was if you were coming in the fall written', 'who was required to have affirmative action programs', 'what episode of the flash is crisis on earth x', 'who invented the first gear driven calculating machine', \"who sings i can't go for that\", 'writer of the monk who sold his ferrari', 'when is the next new episode of agents of shield', 'when did 3 point shot start in college basketball', 'who plays al pacino in jack and jill', 'once upon a time season 7episode 11 release date', 'who plays the voice of joy in inside out', 'what was the number one song on april 20th 2000', 'who plays noah in the boy next door', 'who ruled the ottoman empire at its height in about 1550', 'when does damon first develop feelings for elena', 'who plays kim kelly on freaks and geeks', 'who wrote take it easy by the eagles', 'how many korean athletes in winter olympics 2018', 'how much does it cost to renew a cuban passport', 'who was the comic book series amar chitra katha created', 'who holds the record for most confirmed sniper kills in history', 'miss world japan 2016 is a great grand child of a former chief minister of', 'who played barry gordy on the temptations movie', 'what country does the name zoe come from', \"simba's mother's name in the lion king\", 'who won the last triple crown in baseball', 'what kind of telescope is the chandra observatory', 'when was gold discovered in the klondike region of the yukon', 'who is the current president of france today', 'the point of concurrence of medians is called', 'how many pages is the forest of hands and teeth', 'where did the industrialization first begin in europe', 'how long until a sunburn starts to peel', 'what was the robot maids name on the jetsons', 'when did the battle of the bulge start', 'when is the last time scotland were in the world cup', 'what nations were the central powers in ww1', 'who has been appointed as the new chancellor of nalanda university', 'is windows movie maker used for development or playback', 'who plays anastasia in fifty shades of grey', 'who has won more oscars then anyone else', 'who plays gisele in fast and furious 6', 'what was the point of the anaconda plan', \"what's the name of the white sox park\", 'who was jesus in the greatest story ever told', 'when did the lyrics to o canada change', 'which team is on top in fifa 2018', 'when does the new dragonball super come out', 'the vedic period in india is marked by the development of', 'who do you play as in pokemon yellow', 'who ran the first sub 4 minute mile', 'who was in series 1 of safe house', 'who played the other twin in parent trap', 'where is the gum wall in seattle washington', 'what year did the christmas story come out', 'who plays rebecca in bridget jones edge of reason', \"who won season 8 of rupaul's drag race\", 'who want to be a millionaire winners uk', 'who does the voice of chucky in seed of chucky', 'who does cody zeller play for in the nba', 'when does new season of first 48 start', 'who qualified in group h 2018 world cup', 'who is the voice of the t rex in the good dinosaur', 'how many episodes of sea patrol are there', 'who discovered systemic blood circulation system in human body', 'what is the dog called in midsomer murders', 'what did the animals turn into in cinderella', 'the leader of iraq during the persian gulf war was', 'who are the quad city river bandits affiliated with', 'who plays the vulcan on star trek enterprise', 'who won the first academy award for best picture', 'who scored the most goals in one season in la liga', 'who is the series all american based on', \"who won last year's women's ncaa tournament\", 'how many seats in ontario to have party status', 'when did wrath of the lich king release', 'when does the great christmas light fight 2017 start', 'who starred in the original movie the magnificent seven', 'who does wolverine fight at the end of origins', 'who does the voice of the food critic in ratatouille', 'when do we need to revisit bcp plan and strategy', 'who wins season 2 of americas next top model', 'who sings small town throwdown with brantley gilbert', 'the four noble truths presupposed what three characteristics of reality', 'shmuel the boy in the striped pajamas actor', 'where is most of earths fresh water located', \"who is often considered america's most prolific composer\", 'who has the longest win streak in the nba', 'average hourly wage in india in us dollars', 'the dot product of two vectors results in a', 'how many episodes are there in the tv series yellowstone', 'who organized known elements by placing them into groups of three called triads', 'when was the last time kansas state university was in the elite 8', 'where does the tip of a picc line end', 'when did us gain control of the philippines', 'the first collaboration of richard rodgers and oscar hammerstein ii was', 'who wrote the song kind of a drag', 'when was the last time a nuclear bomb was detonated', 'who is the pink hair girl in sailor moon', \"who's the best selling female artist of all time\", 'when was the last province added to canada', 'what is the most populated region in ghana', 'when was the last time the panthers were in the superbowl', 'where was the airport scene in dumb and dumber filmed', 'the united states today uses which kind of currency', 'which nation was not part of the united nations allied military force in korea', 'how much points did lavar ball average in college', 'what brings in more money nba or nfl', 'where is the office of un general assembly located', 'where did the phrase eating crow come from', 'the optic nerve is known also as what cranial nerve', 'who has the final authority under the federal system', \"who does sam marry in foyle's war\", 'when does new series of dr who start 2018', 'how many episodes in series 1 of orange is the new black', 'which second messenger molecule acts on the endoplasmic reticulum to release calcium ions', 'who holds the record for most 3 pointers in a finals game', 'who was the first captain of pakistan cricket team', 'who plays anna in days of our lives', 'when was the movie love me tender released', 'when did the story to kill a mockingbird take place', 'who played the preacher in inherit the wind', 'monarch of canada date of entry into position', 'who wrote the first computer virus called elk cloner', 'what do you call someone from new guinea', 'who is chips voice in beauty and the beast', \"who is jake's mom in the dark tower\", 'boyles law relates the pressure of gas to its', \"who plays angie in that 70's show\", 'where is the most tobacco grown in the world', 'the type of decent that explains why all species are linked in a single tree of life', \"where are most of the world's earthquakes located\", 'when did heaven by kane brown come out', 'who is playing the guitar in august rush', 'who sings you say it best when you say nothing at all', 'who has the longest winning streak in ufc', 'who is the actress that plays dabby on disjointed', 'who died from the movie fast and furious', 'who wrote song say you wont let go', '2006 best picture nominees that lost to the departed', 'when does the reboot of charmed come out', \"who sang baby it's cold outside in a movie\", \"who does mabel's voice on gravity falls\", 'when did the movie inside out come out', 'what does the zip in zip code stand for', 'what was the inaugural year of the ncaa tournament', 'what episode will the chimera ant arc end', 'where does the colorado river end in texas', 'who performs the secretarial duties for the states of massachusetts pennsylvania and virginia', 'what is the name of ca s o4', 'at present in which state is the nathulla pass', 'what do you call someone from czech republic', 'when did the dog from turner and hooch die', 'when is the litany of the saints sung', 'when did the temporary foreign worker program start', 'where are the gifts of the spirit found in the bible', 'the lowest possible energy level for an electron is known as', 'who sang had the time of my life', 'girl who plays in guardians of the galaxy', 'what is the age of the oldest living person on earth', 'halloween 6 who is the man in black', 'when did the first ipod video come out', \"what's the name of the prince in sleeping beauty\", 'when does star trek discovery season 2 start', 'which delta is the largest delta in the world', 'where do they grow wheat in the us', 'when is game of thrones next book coming out', 'what are the nine forms of mother durga', 'who plays helen of troy fall of a city', 'highest run scorer of under 19 world cup 2018', 'who played the hulk in the tv series', 'when did the first cell phone with a camera come out', 'correct order to read game of thrones books', 'when is ariana grande album sweetener coming out', 'where is the main famine effected continent in the world', 'who played freddy eynsford hill in my fair lady', 'the individual best known for his work on behavior theory is', \"who wrote don't stop me now by queen\", 'the truth about the harry quebert affair tv show release date', 'how old do you have to be to conceal carry in indiana', 'movie with will smith and tommy lee jones', 'who won the popular vote in 2012 us presidential election', \"who plays in won't you be my neighbor\", 'night at the museum 3 ben stiller characters', 'what is the largest tree in the united states', 'who legalized the practice of christianity in the roman empire', 'what type of printer has a nozzle like printhead', 'what is the cast of big bang theory paid', 'when did doritos spicy sweet chili come out', 'who has won the most titles in wwe', 'when did they start drafting for the vietnam war', \"can't you see marshall tucker band album\", 'when did the price is right first air', 'what is the percentage of finding a four leaf clover', 'who plays the part of susan in days of our lives', 'where did the edict of worms take place', 'who is required to file suspicious activity reports', 'where did ac/dc get their band name', 'when did jennifer lopez released her first single', 'who has more national championships clemson or south carolina', 'who wrote the book 31 songs about his favourite music', \"who wrote the lyrics to you've got a friend\", 'star cast of kuch tum kaho kuch hum kahein', 'when written in morse code i am represented by a dot dash and another dot', 'whose diary describes the great plague of london', 'who is broadcasting the super bowl on sunday', 'who plays gwen stacy in into the spiderverse', 'where did frasier go in the last episode', 'annual salary for the president of the united states', 'who sang the super mario bros super show theme song', 'when was the election to the constituent assembly held in india', 'when does episode 5 come out for batman the enemy within', 'what is the theme of midnight in paris', 'who has been elected next president of the united nations in first week of june 2018', 'who wrote the national anthem of south africa', 'who played jill abbott on the young and the restless', 'who is the president of the united states 2016', 'what is the name of jacob tribe in twilight', 'minimum age to contest for president in nigeria', 'where is the movie peace love and misunderstanding filmed', 'who sings the hell song in the south park movie', 'where is the piano found in an orchestra', 'where did the braves play during the olympics', 'when was bring it on fight to the finish filmed', 'when was the first episode of charmed aired', 'what type of tissue does a nerve cell come from', 'highest goal scorer in nigeria premier league 2017', 'who won the presidential election 2018 in zimbabwe', 'what did dwight dress up as for christmas', 'where was tears dry on their own filmed', 'who is the owner of berjaya times square', 'when did the movie the greatest show man come out', \"when was i'll be home for christmas released\", 'during the middle ages who was most likely to own a manuscript or book', 'who plays pearl in the scarlet letter movie', 'where is the nhl all-star game in 2018', 'what canadian network is a million little things on', 'when did the tax free savings account start', 'who sings the original king of the road', 'who was crowned emperor of the west in 800 ce', 'average life expectancy of a man in england', \"who plays the toilet in bob's burgers\", \"who has won the 2017 men's single australian open tennis tournament\", 'when does spiderman homcoming come out on dvd', 'who are the voices on the phone walking dead', \"who's on the 20 dollar note australia\", 'when does the geological record indicate that the earth formed', 'what is the southern end of the appalachian trail', 'when did the tenth doctor regenerate into himself', 'which river takes its name from loess soil', 'how many hungarians were killed in 1956 by soviet forces', 'number of starbucks stores in the united states', 'highest goal scored in a champions league season', 'what is the longest race track in the world', 'who are the players on the nrl trophy', \"what are saturn's rings mostly made of\", 'what is the value of absolute zero on the celsius scale', 'who led chinas naval exploration during the age of exploration', 'what do you call animals live in water', 'who won the espy for best nba player', \"who are the chefs on america's test kitchen\", 'who played in how to marry a millionaire', 'who plays lance salisbury in home and away', 'who belongs to the absurd school of drama', 'first person to reach the top of mt everest', 'when was the last time germany lost world cup', 'what is the first known polyphonic setting of all the sung movements of the mass ordinary', 'who plays the she elf in hobbit 2', 'who played hillary on the fresh prince of bel-air', 'where is once upon a time in hollywood being filmed', 'who was the highest-ranking black officer in the u.s. army at the beginning of the first world war', 'who played the lone ranger in the 1950s', 'who plays male lead in far from the madding crowd', 'topiramate (topamax trokendi) is used to treat which of the following diseases', 'who writes the guinness book of world records', 'where is the cannon bone located on a horse', 'who discovered sandwich (now hawaiian) isles', 'when did libya give up its nuclear weapons', 'what state will see the total solar eclipse first', 'who is the presiding officer of the house of reps', 'who does the voice of hogarth in the iron giant', 'who runs the fastest 40-yard dash in the nfl', 'longest win streak in major league baseball history', \"when was don't ask don't tell established\", 'how far is summerville south carolina from charleston', 'what is the wage base for social security', 'when was the internet invented for home use', 'when did wireless charging come out for samsung', 'when did come and get your love come out', 'who is the girl in transformers dark side of the moon', 'what episode does angelina leave in season 2', 'who has most superbowl wins afc or nfc', 'words made from the first letters of other words', 'what type of economic system does thailand have', 'who wrote the lyrics to all you need is love', 'packed to the rafters season 5 episode 1', 'last of the mohicans filming locations north carolina', 'who is the largest tractor manufacturer in the world', 'where are the world athletic championships being held', 'when does perks of being a wallflower take place', 'when does episode 11 of station 19 air', \"who plays erica hahn on grey's anatomy\", 'who scored the most goals in a single nhl game', 'who said stand on the shoulders of giants', 'french explorer who first arrived in canada in 1534', 'where does the ultimate power reside in a democracy', 'when was disney the fox and the hound first released', 'when did la paz become the capital of bolivia', 'approximately what percentage of earth’s surface is covered with water', \"who is in the group why don't we\", 'who played young jane in jane the virgin', 'when did the brave season 1 episode 10 air', 'when is episode 10 of boruto coming out', 'what does ar stand for in a rifle', 'the aleutian islands are part of which state', 'when was the american flag flown for the first time', 'who sang i just died in your arms', 'what episode of bleach does the fullbring arc start', 'who is in the band 4 non blondes', 'which chef has got the most michelin stars', 'mlb how many times do teams play each other', 'who is the girl who sings like a g6', 'when did world war 2 in europe end', 'how and when was knowledge of paper making established in christian europe', 'who sang the song i want a hippopotamus for christmas', 'what powers does the governor general have in australia', \"who's won the league cup the most\", 'who is the longest serving actor in eastenders', 'how many episode shokugeki no soma season 3', 'what are the supporters of scuderia ferrari in f1', 'how many seasons of blue heelers are there', 'who has won most man of the match awards in odi', 'abby from how i met your mother real name', 'what are the bikes called where you lay down', 'predators of herbivores belong to which trophic level', 'who did kelly end up with on 90210', 'what do you call a person from lebanon', 'how many episodes in american horror story season 1', 'who is in charge of american monetary policy', 'what is the next song of ice and fire book', 'what is the zip code for downtown dallas texas', 'how many original harry potter books are there', 'where does the surname janse van rensburg come from', 'who was heading indian army 1971 bangladesh war', 'where does the rio grande start and finish', 'when did the british take over cape colony', 'who did the choreography for the movie the greatest showman', 'when was the peace treaty signed in ww2', 'what was the mohammedan anglo oriental school 4 marks', 'who wrote something in the way she moves', 'when was the food and drug administration established', 'most td passes in a college football season', 'who died in the plane crash in greys anatomy', 'how many times has the us constitution been changed', 'who sings so nice to be with you', 'who sang the original version of without you', 'which hindu god was known as the preserver', 'who founded the church of latter day saints', 'when did we start paying federal income tax', 'what is the term for the onset of the first menstrual cycle', 'where did aaron judge play baseball last year', 'who won season 2 of the next iron chef', 'what is the top of a pyramid called', 'how many times peyton been to super bowl', 'when were air brakes first used on trucks', 'when was the last time baltimore had a republican mayor', 'what is the name of the compound with the formula kclo', 'who gave foreword to mulk raj anands untouchable', 'where is the new years eve concert held', 'when did the wichita state football team plane crash', 'what type of song did schubert specialize in', 'who played ellie walker on andy griffith show', 'who has the best batting average in odi', 'which u.s. supreme court case required states to use the exclusionary rule', 'when did no smoking in public places start', 'when did in god we trust go on money', 'which internet web portal changed its name to altaba inc', 'what is the salt content of the pacific ocean', 'when did ginny weasley join the quidditch team', 'where do springs form with respect to the water table', 'different types of oils that can be used with an oio lens', 'who was the movie american sniper based on', 'which city is known as pearl city of india', 'what car does reynolds woodcock drive in phantom thread', 'who does the voice of max from a goofy movie', 'where did the tour de france start in 1954', 'where is the hogan stand in croke park', 'spanish city at the foot of the sierra nevada', 'who plays kiki in queen of the south', 'who is going on tour with taylor swift 2018', 'when does the season of gold rush start 2017', \"when's the last time the los angeles dodgers won the world series\", 'when do you have a scrum in rugby union', 'when will game of thrones season 7 will be aired', 'who plays jill on the young and the restless', 'what is the most common bible translation in english', 'what is the term for a leavened arabic flat bread', 'who played caleb in sarah plain and tall', 'what does it mean when you hear high pitched noises', 'when was the colosseum in rome italy built', 'who did the voice of slinky in toy story 3', 'where was king arthur legend of the sword shot', 'what are the four stars on the chicago flag', 'where does the last name bermudez come from', 'what is the world record for remembering pi', 'what was the number one song on august 31st 2017', 'when was to kill a mocking bird made', 'where does the process of oxidative phosphorylation get the energy to form atp', 'who slew the philistines with a donkey jawbone', 'when does girlfriends guide to divorce season 3 start', 'how deep is ice in a hockey rink', 'when was daylight savings time established in the united states', 'ct is produced by which cells of the thyroid gland', 'where did the term dark ages come from', 'who sings does he love me with reba', 'biggest lake in the us borders which states', 'a change in which new products are formed is called a', 'who was the overall british commander of the gallipoli campaign', 'how many super bowl wins does the pittsburgh steelers have', 'when did northern ireland last qualify for the world cup', 'what city is the running of the bulls', 'who was the first person to be awarded the bharat ratna', 'dolce and gabbana based on which italian city', 'what is the full name of nigerian president', 'who plays madelines daughter in big little lies', 'what genre is blood sweat and tears bts', 'what was the another name for masuli patnam', '3. which two allied powers were offered lands in the middle east after the war by britain', '1 kunta is equal to how many square feet', 'around what year do we think sir gawain and the green knight was written', 'who sang the way you look tonight first', 'where is area code 204 located in usa', 'which part of the mcs produces the bow echo on radar', 'what books are in the lord of the rings series', 'what year did the movie traffic come out', 'who plays caputo on orange is the new black', 'who is buried at the tennessee state capitol', 'chennai express one two three four get on the dance floor dancer', 'sound is a form of what kind of energy', \"where is britain's got talent semi finals held\", 'record amount of aces in a tennis match', \"who sings i don't want to lose your love tonight\", 'where did little house on the prairie film', 'what is the capital of new zealands north island', 'who wrote life is just a bowl of cherries', 'when is the world population expected to reach 8 billion', 'when did taylor swift released her first album', 'who played adam newman on the young and restless', 'who used the sherman antitrust act to dissolve the monopoly of the northern securities company', \"who sings what's my name in descendants 2\", 'when did south korea have the summer olympics', 'where was three coins in the fountain filmed', 'which dam is the highest dam in india', 'who is the current madam president in the senate', 'what is the running time of the last jedi', 'which 5 carriers are part of the lufthansa group airlines', 'what is the primary type of mining that takes place under the bolivian mountain', 'what is the legal age for drinking alcohol in australia', 'who played the cigarette smoking man on the x-files', 'what is the name of the mineral in black panther', 'who is the chairman of coal india limited', 'what is the newest version of cards against humanity', 'how long is a tracking number for ups', 'when does the rest of season 7 of suits start', 'who ran on the democratic ticket in 2016', 'who wrote the song may the good lord bless and keep you', 'what is the city in italy that is under water', 'who is the oldest basketball player currently playing', \"who composed the famous song 'sare jahan se acha'\", 'where did the loaves and fishes come from', 'when does the new tv series young sheldon start', '\\u200ba statement that tests a value is called a ____ statement', 'how many episodes are there in season 2 of the crown', 'when did prohibition start and end in america', 'what is the top speed of a yamaha blaster', 'countries that have independence day on 15th august', 'who sang you can get it if you really want', 'where is the olympics going to be in 2020', 'where does easy jet fly from in uk', 'where does raisin in the sun take place', \"who plays the younger sister in what's eating gilbert grape\", 'when were subs first used in english football', 'in which state rastriya rakshak dal was established', \"who plays woody guthrie in alice's restaurant\", 'what is the first light in the night sky', 'where was the movie beauty and the beast filmed', 'when does episode 115 of dragon ball super air', 'which phase of healing begins about 3 weeks after injury', 'how many states in america have the death penalty 2017', \"who's the lead singer of the doobie brothers\", \"when was guess who's coming to dinner made\", 'what is the population of toronto ontario canada', \"when did mcdonald's get the golden arches\", 'what actor played dave in alvin and the chipmunks', \"who won the gold medal for men's halfpipe\", 'who plays molly in big momma house 2', 'who sings are we human or are we dancer', 'indian who taught the pilgrims how to fish and plant crops', 'when did big brother start on channel 5', 'who has the least punishments on impractical jokers', 'how many episodes in north and south book 1', 'what side of the road to drive in sweden', 'who sang at the super bowl 2017 half time show', 'who played pai mei in kill bill 2', 'when did fortnite come out on xbox one', \"who won australia's got talent 2011 winner\", 'what weight is conor mcgregor and mayweather fighting at', 'when did the green bay packers play in milwaukee', 'how many episodes of mr robot are there', 'when is mom and dad movie coming out', 'who sang i wanna be like you', 'what european country does the jabra brand originate from', 'who have most followers on twitter in world', 'who is the author of the man booker prize winning book life of pi', 'when did the us send troops to europe in ww1', \"who has the most rbi's in one game\", 'who plays donna ladonna in the carrie diaries', 'who sings with shaggy on it wasn me', 'who played barney fife on the andy griffith show', 'largest and deepest freshwater lake in the world', 'where did the congregation of holy cross begin', 'how many judges sit on the us court of appeals', 'what happened to the third guy in nirvana', 'when was the birds nest stadium built for the beijing games', 'what is the another name of sahara desert', \"who sang it's a wonderful world first\", 'who is responsible for maneuvering the fire team', 'how much is a shot of espresso in ml', 'what is the name of the square in venice italy', 'when does shokugeki no soma season 3 return', 'the cast of the big valley tv show', 'where is the winter olympics going to be', 'a mountain named for a king in canada', 'when did the san fernando valley try to secede from los angeles', 'who invented the television and when was it invented', 'how many types of ion channels are there', 'what type of rock is present at grand canyon national park', 'when did the 2nd generation ipad come out', 'when was your song by elton john released', 'when did the go pro hero 6 come out', 'who is the actor who plays captain america', 'what does the name christian mean in spanish', 'when did the iphone 7 plus come put', 'what is the direction of the rotation of the earth', 'who won the last food network star 2017', 'what is the name of the president of austria', \"who played scarlet o'hara in gone with the wind\", 'which type of climate is characteristic of antarctica', 'how many pitches do musicians have to work with in the western musical system of today', 'who dies in harry potter and the half blood prince', 'when did the orioles win the world series', 'who is crowned king of scotland at the end of macbeth', 'what was the name of the early theologian who developed the church’s understanding of free will', 'when was the original clash of the titans made', 'who won the battle of the sexes in 1973', 'when was the salary cap introduced to the nba', 'when does marriage boot camp family edition come on', 'when did sophia the robot get her citizenship', 'who wrote the poem i must go down to the sea again', 'president are allowed to issue which kind of orders without the approval of congress', \"when does new bob's burgers come out\", 'where did the movie players club take place', 'who was the second president to be impeached', 'most goals in an epl season by a team', 'how many turbos does a bugatti veyron ss have', 'diapsids dominated the terrestrial landscape for the first time following which event', 'minnesota twins logo what does the c stand for', 'where is the movie cargo based out of', 'who did the us fight in world war i', 'who won the second battle of the marne', 'what adds a phosphate group to adp to form atp', 'which part of the plant is sugar beet', 'who has won the boat race more times', \"who played drums on i won't back down\", 'who sings more than a woman to me', 'who played bernardo in the movie west side story', 'who played larry in man about the house', 'who composed the music for jana gana mana', 'what does barium do in a ct scan', \"what are the ghost's name in pacman\", 'what is the blue liquid in barber shop', 'when did france give us the statue of liberty', \"who won o'reilly auto parts 500 in 2017\", 'who has the most grand slams of all time', 'what is the real name for rollie pollies', 'who is the number 1 most subscribed person on youtube', 'what body of water does niagara falls flow into', 'who has 2 tapes in 13 reasons why', 'identify the part of a neuron that releases neurotransmitter', 'who won the darts in shanghai last night', 'who was the pioneer that helped build the wilderness road', 'when did the rams move to saint louis', 'who played the first alice in the honeymooners', 'who holds the record for most td passes in a game', 'who tried to make the first flying car', 'who plays the little girl in miracle on 34th street 1994', \"who caught dan marino's one last pass\", 'who won the first season of the voice', 'who starred in the movie same time next year', 'how many planet of the ape films are there', \"who wrote the song i'll be there\", 'what was the biggest mass extinction in geologic time', 'when did trinidad and tobago become an independent nation', 'most medals canada has won at a winter olympics', 'what is it called when you have sudden mood changes', 'who was the original host of family fued', 'when did brandy youre a fine girl come out', 'who wrote the sanford and son theme song', 'where is the cadbury creme egg factory located in england', 'when did the audi a3 have a facelift', 'who first described the idea of natural rights', 'who plays the voice of morgana in trollhunters', 'which pm of pakistan had the shortest tenure', 'who is the first person to classified galaxies into groups according to their structure', \"who wrote the song she's a lady\", \"who was the winner of the women's singles at wimbledon\", 'who plays professor proton on big bang theory', 'when did the black and red jordans come out', 'when do we celebrate world environment day and why', 'who narrated the old man and the sea', 'who did loyola beat for the national championship in 1963', 'what direction does the earth spin around the sun', 'who is koba in dawn of the planet of the apes', \"who sings don't call us we'll call you\", 'how long do mocking birds stay in the nest', 'which country supported the republican forces with military aid in the spanish civil war', 'when does the next part of the ranch come out', 'how many bones are in your little toe', 'who wrote i could fall in love by selena', 'who is luke air force base named after', 'naruto shippuden ultimate ninja storm 4 release date', 'who starred in the movie scent of a woman', 'when did we start singing god save the queen', 'when was the aria built in las vegas', 'who played our girl in the first series', 'when is the new season of el chapo coming out', 'where does the movie great outdoors take place', 'when did the battle of san jacinto happen', 'who is known as the super fast boy in the series the incredible', 'what is the function of the proteins secreted by cells of the ventral midline of the spinal cord', 'who played friar tuck in prince of thieves', 'who won the first olympic gold medal in snowboarding', 'who wrote the book of obadiah in the bible', 'who won the oscar for best actor in 2006', 'meiosis ii does not take place in the oocyte until', 'how much did it cost to build the dallas cowboys stadium', 'who produces the most coal in the world', 'who plays damon wayans wife on lethal weapon', 'who did ava jerome kill on general hospital', 'where does hill country fare chicken come from', 'when does season 3 of wanted come out', 'where is james scott from days of our lives', 'when did kingdom hearts 1 come out in america', 'who presides over the meeting of legislative council', 'when is the premiere of game of thrones season 7', 'who plays john wick on the big screen', \"who was 'man of the match' in india's 1983 world cup winning final\", 'when was the last time the kansas city chiefs won the superbowl', \"who plays robin's mom in how i met your mother\", \"who sang we are young in the 80's\", 'what is the name of a group of llamas', 'what type of tissue is the uppermost layer of the skin', 'how long is the halftime at the super bowl', 'what is the tallest building in new york called', 'when was the neutrality act of 1937 passed', 'who did the voice of anna in frozen', 'when does rupauls drag race season 10 start', 'world of winx season 3 episode 1 release date', 'when did france start driving on the right', 'arabian sea is the part of which ocean', 'what war broke out after texas became the 28th state', 'when did peru last qualify for world cup', \"what season is it's a trap family guy\", 'the two sides of the standard of ur depict', 'when is season 7 of game of thrones being released', 'who wrote the influence of sea power upon history', 'which metal is used as a thin film on sweets', 'fe is the chemical symbol for what element', 'who won the 2017 formula 1 spanish grand prix', 'when does real time with bill maher come back', 'what part of the chicken is general tso chicken', \"this dictator and commander of chile's army ruled the country from 1973 to 1990\", 'who plays albus potter in the cursed child', 'where is womens rugby world cup being held', 'what are four functions of the cell or plasma membrane', 'what feature led to the most sales for the playstation 2', 'who played the hunchback in the hunchback of notre dame', 'when were verses and chapters added to the bible', 'the office season 6 episode 1 guest stars', 'what is the contribution of nek chand in the world of art', 'who won the ncaa basketball championship in 1989', 'when was mission santa clara de asis rebuilt', \"where did the name kellogg's come from\", 'when does season 4 of the ranch on netflix come out', 'how many episodes are in season 5 of wentworth prison', 'when did america first land on the moon', 'what does e/m stand for in medical terms', 'feast day of our lady of perpetual succour', 'where did the vegas hockey team come from', 'where can the national guard be deployed to', 'where does the tap water in london come from', 'when did sri lanka leave the british empire', 'when was fast times at ridgemont high made', 'what is the most important role of the flowers in a plant', 'who was the first team to win the scottish cup', 'how many seasons of svu law and order are there', 'when was the north american free trade agreement signed', 'who was the last surviving soldier of the civil war', 'when did the jaguar e pace come out', 'who is the servant through whom allah provided the quran', 'how many episodes are in american crime season 2', 'where did the austro prussian war take place', \"who played sloane in ferris bueller's day off\", 'where have the olympics been in the us', 'what is the legal age to get a tattoo in virginia', 'who establishes the rules about naturalization of citizens', 'who were the shudras was dedicated to whom', 'who wrote all i ever need is you', 'when was the last time cinco de mayo fell on a saturday', 'when did the first disney incredibles come out', 'where do ruby throated hummingbirds go in winter', 'who wrote close encounters of the third kind', 'who wrote the song when will i see you again', 'where is lackland air force base located in texas', 'where did spain colonize in the new world', 'thing that connects tongue to bottom of mouth', 'who starred in night of the living dead', 'what is the staute of liberty made of', 'who is the female driver on grand tour', 'who killed dennis rickman in eastenders in 2005', 'what is the official language in the dominican republic', 'who played primrose in the darling buds of may', 'when does lara croft tomb raider come out', \"who starred in breakfast at tiffany's 1961\", 'when does season 3 of live pd start', 'what is the highest peak of mountain kenya', 'where is the common site for obtaining a pulse rate', \"who plays claire underwood's mom on house of cards\", 'who won the national title in college football last year', 'the invasion of kuwait by iraq resulted in a conflict that became known as', 'who is in charge of public schools in america', 'when did the last episode of naruto shippuden air', 'who sang life is a three ring circus', 'what was the front line trench in ww1', 'who wrote nanny mcphee and the big bang', 'where is the final four 2018 being held', 'a touch of frost season 5 episode 4', 'corporate social responsibility (csr) is also known as', 'according to census 2011 which is low density state', 'what was the largest margin of victory in a presidential election', 'who was the mermaid in pirates of the caribbean 4', 'who play the role of draupadi in mahabharat', \"when did saint elmo's fire come out\", 'when is a new episode of this is us coming out', 'what was the name of the hamburger guy in popeye', 'who is known as father of karnataka music', 'at present who is the speaker of lok sabha', 'when does supernatural scooby doo episodes come out', 'how many pirates of the carribean movies are there', 'when did us dollar not backed by gold', 'high blood glucose levels stimulate the release of', 'who is associated with the term loknayak in india', '1 kilohertz is equal to how many hertz', 'who controlled vietnam during the late 1800s to 1954', \"who saying you're a mean one mr. grinch in the iconic 1966 animated tv short\", 'who holds the record for the most rebounds in the nba', \"who plays rory in my babysitter's a vampire\", \"who is announcing tonight's world series game\", 'where did 6 degrees of separation come from', 'what type of snake is green and black', 'where do they film the royals on e', \"where does she's the man take place\", 'who did romeo miller play college basketball for', \"who wrote you don't know what it's like to love somebody\", 'how many places did the israelites camp in the wilderness', 'when is black lightning ep 6 coming out', 'when did uk voting age reduced to 18', 'when did they sign the declaration of independence', \"who does bob's voice from bob's burgers\", 'who does the voices for sofia the first', 'when does minimum wage go up in ab', 'where does the heat from geothermal energy come from', 'who was first roger moore or sean connery', 'han dynasty favored this religion and based civil service exams on it', 'who plays olivia benson on law and order', \"when did the children's act came into force\", \"who sings you're a mean one mr grinch song\", 'who has the most finals rings in the nba', 'where are the houses from full house located', 'when was the castle in versailles ky built', \"what does the winner get of america's got talent\", 'what type of writing is most similar to an autobiography a. poetry b. short story c. novel d. memoir', 'when was shine on you crazy diamond written', 'where was things i know to be true set', 'where does the blood in the pulmonary vein come from', 'who sings theme song for king of queens', 'who wrote the song born to be wild', 'where does the prime minister of israel live', 'when did pledge of allegiance added under god', 'when did fred hollows get australian of the year', 'when do football teams wear their third kit', 'how many premier league trophies have man city won', 'who is the new girl on price is right', 'where is the big brother house located in south africa', 'do you have to show your id to police in va', 'who plays the voice of lois on family guy', 'when was the first death wish movie made', 'who developed what is considered to be the industry standard for assessing and diagnosing sociopathy', 'where is the gathering of the juggalos being held this year', 'which president was the general in charge of the union army during the civil war', 'who plays jem in to kill a mockingbird', 'who ordered the death of the knights templar', 'the author of the girl on the train', 'the differences between the different spectral types of stars are primarily due to', 'most points in la liga in a season', 'who plays eddie on season 8 of shameless', 'when did they stop making the dodge viper', 'organic molecules that end in the suffix ase', 'when did the carolina panthers become a team']\n",
      "[[ 0.40188265  0.6893611   0.2686446  ... -0.91241896 -0.00792836\n",
      "   0.69637597]\n",
      " [-0.35663727  0.1675503  -0.45880386 ... -0.8440542  -0.05752924\n",
      "   0.26323768]\n",
      " [-0.13373244  0.03961753 -0.73597974 ... -0.10727742  0.00149832\n",
      "   0.01485026]\n",
      " ...\n",
      " [ 0.37360042  0.95404875 -0.7254583  ... -1.3411322  -0.40838894\n",
      "  -0.25570214]\n",
      " [-0.64251477 -0.07337086  0.23144263 ... -0.13462824 -0.09159695\n",
      "  -0.7376391 ]\n",
      " [ 0.37990525  0.20323177  0.49076244 ... -0.9575201  -0.49251392\n",
      "  -0.28821862]]\n"
     ]
    }
   ],
   "source": [
    "# 2. Prepare an example calibration dataset\n",
    "corpus = load_dataset(\"nq_open\", split=\"train[:1000]\")[\"question\"]\n",
    "print(corpus)\n",
    "\n",
    "calibration_embeddings = model.encode(corpus)\n",
    "print(calibration_embeddings)"
   ]
  },
  {
   "cell_type": "code",
   "execution_count": 8,
   "metadata": {},
   "outputs": [
    {
     "name": "stdout",
     "output_type": "stream",
     "text": [
      "[[-0.25717044  0.35520184  0.00353763 ... -0.6651358   0.17863286\n",
      "  -0.17328042]\n",
      " [-0.7636851   0.5963278  -0.0395734  ... -0.06096186 -0.0360474\n",
      "   0.15181805]]\n",
      "[[-26  10   4 ...  -7  32  -4]\n",
      " [-69  31   0 ...  39  11  26]]\n"
     ]
    }
   ],
   "source": [
    "# 3. Encode some text without quantization & apply quantization afterwards\n",
    "embeddings = model.encode([\"I am driving to the lake.\", \"It is a beautiful day.\"])\n",
    "print(embeddings)\n",
    "\n",
    "# Choose a target precision for the corpus embeddings\n",
    "# Valid options are: \"float32\", \"uint8\", \"int8\", \"ubinary\", and \"binary\"\n",
    "int8_embeddings = quantize_embeddings(\n",
    "    embeddings,\n",
    "    precision=\"int8\",\n",
    "    calibration_embeddings=calibration_embeddings,\n",
    ")\n",
    "print(int8_embeddings)"
   ]
  },
  {
   "cell_type": "code",
   "execution_count": 9,
   "metadata": {},
   "outputs": [
    {
     "name": "stdout",
     "output_type": "stream",
     "text": [
      "(2, 1024)\n",
      "8192\n",
      "float32\n",
      "---------------------\n",
      "(2, 1024)\n",
      "2048\n",
      "int8\n"
     ]
    }
   ],
   "source": [
    "print(embeddings.shape)\n",
    "print(embeddings.nbytes)\n",
    "print(embeddings.dtype)\n",
    "print(\"---------------------\")\n",
    "print(int8_embeddings.shape)\n",
    "print(int8_embeddings.nbytes)\n",
    "print(int8_embeddings.dtype)"
   ]
  },
  {
   "cell_type": "code",
   "execution_count": null,
   "metadata": {},
   "outputs": [],
   "source": []
  }
 ],
 "metadata": {
  "kernelspec": {
   "display_name": "env",
   "language": "python",
   "name": "python3"
  },
  "language_info": {
   "codemirror_mode": {
    "name": "ipython",
    "version": 3
   },
   "file_extension": ".py",
   "mimetype": "text/x-python",
   "name": "python",
   "nbconvert_exporter": "python",
   "pygments_lexer": "ipython3",
   "version": "3.10.0"
  }
 },
 "nbformat": 4,
 "nbformat_minor": 2
}
